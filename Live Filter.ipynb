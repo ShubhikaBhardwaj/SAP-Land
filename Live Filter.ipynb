{
 "cells": [
  {
   "cell_type": "code",
   "execution_count": 9,
   "metadata": {},
   "outputs": [],
   "source": [
    "import numpy as np\n",
    "import cv2\n",
    "import requests\n",
    "import json\n"
   ]
  },
  {
   "cell_type": "code",
   "execution_count": 10,
   "metadata": {},
   "outputs": [
    {
     "data": {
      "text/plain": [
       "True"
      ]
     },
     "execution_count": 10,
     "metadata": {},
     "output_type": "execute_result"
    }
   ],
   "source": [
    "\n",
    "# Camera Init\n",
    "cap = cv2.VideoCapture(0) \n",
    "cap.set(cv2.CAP_PROP_FPS, 30)"
   ]
  },
  {
   "cell_type": "code",
   "execution_count": 11,
   "metadata": {},
   "outputs": [],
   "source": [
    "\n",
    "# Your PixLab API key\n",
    "key = '0b55e935a17d52f0a14b7ed4f94f45a4'\n",
    "\n",
    "# If set to True then composite the flower crown. Otherwise, composite the dog stuff.\n",
    "draw_crown = False\n",
    "\n",
    "# Resize an image (Dog parts or the flower crown) to fit the face dimension using smartresize.\n",
    "def smart_resize(img,width,height):\n",
    "    print (\"Resizing filter image...\")\n",
    "    req = requests.get('https://api.pixlab.io/smartresize',params={\n",
    "\t\t'img':img,\n",
    "\t\t'key':key,\n",
    "\t\t'width': width,\n",
    "\t\t'height': height\n",
    "\t})\n",
    "    reply = req.json()\n",
    "    if reply['status'] != 200:\n",
    "        print (reply['error'])\n",
    "        exit()\n",
    "    else:\n",
    "        return reply['link'] # Resized image"
   ]
  },
  {
   "cell_type": "code",
   "execution_count": 12,
   "metadata": {},
   "outputs": [],
   "source": [
    "# The SAP crown.\n",
    "#flower = 'http://pixlab.xyz/images/flower_crown.png'\n",
    "crown='Crown.png'\n",
    "badge='Badge.png'\n"
   ]
  },
  {
   "cell_type": "code",
   "execution_count": 16,
   "metadata": {},
   "outputs": [
    {
     "ename": "TabError",
     "evalue": "inconsistent use of tabs and spaces in indentation (<ipython-input-16-d8fc1c0dd8e3>, line 29)",
     "output_type": "error",
     "traceback": [
      "\u001b[1;36m  File \u001b[1;32m\"<ipython-input-16-d8fc1c0dd8e3>\"\u001b[1;36m, line \u001b[1;32m29\u001b[0m\n\u001b[1;33m    print (\"\\tCrown flower at: X: \" + str(landmarks['bone']['center']['x']) + \", Y: \"+str(landmarks['bone']['center']['y']))\u001b[0m\n\u001b[1;37m                                                                                                                            ^\u001b[0m\n\u001b[1;31mTabError\u001b[0m\u001b[1;31m:\u001b[0m inconsistent use of tabs and spaces in indentation\n"
     ]
    }
   ],
   "source": [
    "while 1:\n",
    "    ret, img = cap.read()\n",
    "    req = requests.get('https://api.pixlab.io/facelandmarks',params={\n",
    "        'img': img,'key': key})\n",
    "    reply = req.json()\n",
    "    if reply['status'] != 200:\n",
    "        print (reply['error'])\n",
    "        exit();\n",
    "        \n",
    "    total = len(reply['faces']) # Total detected faces\n",
    "    if total < 1:\n",
    "        print (\"No faces were detected..exiting\")\n",
    "        exit()\n",
    "    print(str(total)+\" faces were detected\")\n",
    "\n",
    "    # This list contain all the coordinates of the regions where the flower crown or the dog facial parts should be\n",
    "    # Composited on top of the target face later using the `merge` command.\n",
    "    coordinates = []\n",
    "\n",
    "    # Iterate all over the detected faces and make our stuff\n",
    "    for face in reply['faces']:\n",
    "        cord = face['rectangle']\n",
    "        landmarks = face['landmarks']\n",
    "        fit_crown = smart_resize(\n",
    "            crown,\n",
    "            cord['width'] + 20, \n",
    "            0 )\n",
    "        print (\"\\tCrown flower at: X: \" + str(landmarks['bone']['center']['x']) + \", Y: \"+str(landmarks['bone']['center']['y']))\n",
    "        coordinates.append({\n",
    "            'img': fit_crown, # The resized crown flower\n",
    "\t\t   'x': landmarks['bone']['center']['x'],\n",
    "\t\t   'y': landmarks['bone']['center']['y'] + 5,\n",
    "\t\t   'center':   True,\n",
    "\t\t   'center_y': True\n",
    "\t\t})\n",
    "\t\n",
    "\n",
    "\n",
    "        # Finally, Perform the composite operation\n",
    "        print (\"Composite operation...\")\n",
    "        req = requests.post('https://api.pixlab.io/merge',\n",
    "\t    headers={'Content-Type':'application/json'},\n",
    "\t    data=json.dumps({\n",
    "            'src':img, # The target image\n",
    "            'key':key,\n",
    "            'cord': coordinates }))\n",
    "        reply = req.json()\n",
    "        if reply['status'] != 200:\n",
    "            print (reply['error'])\n",
    "        else:\n",
    "            print (\"Snap Filter Effect: \"+ reply['link'])\n",
    "        \n",
    "        cv2.imshow('Thug Life',reply['link'])\n",
    "        key = cv2.waitKey(1) & 0xFF\n",
    "        if key == ord(\"q\"):\n",
    "            break\n",
    "\n",
    "        k = cv2.waitKey(30) & 0xff\n",
    "        if k == 27:\n",
    "            cv2.imwrite('img.jpg', img)\n",
    "            break\n",
    "\n",
    "    \n"
   ]
  },
  {
   "cell_type": "code",
   "execution_count": null,
   "metadata": {},
   "outputs": [],
   "source": [
    "\n",
    "cap.release()\n",
    "cv2.destroyAllWindows()"
   ]
  },
  {
   "cell_type": "code",
   "execution_count": null,
   "metadata": {},
   "outputs": [],
   "source": []
  }
 ],
 "metadata": {
  "kernelspec": {
   "display_name": "Python 3",
   "language": "python",
   "name": "python3"
  },
  "language_info": {
   "codemirror_mode": {
    "name": "ipython",
    "version": 3
   },
   "file_extension": ".py",
   "mimetype": "text/x-python",
   "name": "python",
   "nbconvert_exporter": "python",
   "pygments_lexer": "ipython3",
   "version": "3.6.8"
  }
 },
 "nbformat": 4,
 "nbformat_minor": 4
}
